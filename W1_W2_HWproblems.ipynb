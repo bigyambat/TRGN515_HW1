{
 "cells": [
  {
   "cell_type": "markdown",
   "id": "cde778c6-d3de-4153-83ce-292b42a97e00",
   "metadata": {
    "jp-MarkdownHeadingCollapsed": true,
    "tags": []
   },
   "source": [
    "# W1 - GitHub assignment\n",
    "\n",
    "- Find instructions to transfer files (final, completed homework in this case) to your Github repository\n",
    "- Share with me and your cohort a written report of instructions for file sharing from a server to GitHub repository (you can use Slack for exchanging ideas)\n"
   ]
  },
  {
   "cell_type": "markdown",
   "id": "1ad05518-d5ed-47cb-8bc2-d08371316493",
   "metadata": {},
   "source": [
    "# W1-HW1\n",
    "\n",
    "Let's remove some elements from the list, without changing the original list.\n",
    "Some hints for you to use:\n",
    "\n",
    "#pop()\n",
    "\n",
    "#remove()\n"
   ]
  },
  {
   "cell_type": "code",
   "execution_count": 64,
   "id": "bcfa375e-f038-4e33-9776-71ca5fcfa434",
   "metadata": {
    "tags": []
   },
   "outputs": [
    {
     "name": "stdout",
     "output_type": "stream",
     "text": [
      "['Every', 'problem', 'has', 'a', 'good', 'solution']\n",
      "['Every', 'problem', 'has', 'a', 'solution']\n"
     ]
    }
   ],
   "source": [
    "my_list = [\"Every\" , \"problem\", \"has\", \"a\", \"good\" ,\"solution\"]\n",
    "\n",
    "new_list = my_list[:]\n",
    "\n",
    "new_list.remove(new_list[4])\n",
    "\n",
    "print(my_list)\n",
    "print(new_list)"
   ]
  },
  {
   "cell_type": "markdown",
   "id": "dce83d59-a2d0-4915-b6a1-3eaa9ec27df1",
   "metadata": {
    "tags": []
   },
   "source": [
    "# W1-HW2 \n",
    "\n",
    "One other solution is to use copy() method, in order to avoid making changes to the original list\n",
    "\n",
    "use copy() method on the 'main_list' given in W1 Jupyter notebook and print it.\n"
   ]
  },
  {
   "cell_type": "code",
   "execution_count": 65,
   "id": "1b8a3638-c62e-4df1-86c9-93069daa0f0d",
   "metadata": {},
   "outputs": [
    {
     "name": "stdout",
     "output_type": "stream",
     "text": [
      "[1, 2, 3]\n",
      "[1, 2]\n"
     ]
    }
   ],
   "source": [
    "main_list = [1, 2, 3]\n",
    "\n",
    "modified_main_list = main_list.copy()\n",
    "\n",
    "modified_main_list.pop()\n",
    "\n",
    "print(main_list)\n",
    "print(modified_main_list)\n"
   ]
  },
  {
   "cell_type": "markdown",
   "id": "c8556415-62cd-4cbe-987a-3317925a70df",
   "metadata": {},
   "source": [
    "# W1-HW3\n",
    "\n",
    "Find 5 dictionary methods and use in different examples. Give three examples to errors, such as KeyError with detailed explanations. You can rely on Jupyter notebook features, such as markdown. For more features, you can refer to: https://www.datacamp.com/community/tutorials/markdown-in-jupyter-notebook\n"
   ]
  },
  {
   "cell_type": "markdown",
   "id": "5a899408-e76d-450b-a8a9-f121ca80ac30",
   "metadata": {},
   "source": [
    "## 5 Dictionary Methods in Examples\n"
   ]
  },
  {
   "cell_type": "markdown",
   "id": "22f33322-e7b2-4b30-8558-a08eae581821",
   "metadata": {},
   "source": [
    "### update()\n",
    "Allows you to update a dictionary with new key:value pairs"
   ]
  },
  {
   "cell_type": "code",
   "execution_count": 66,
   "id": "87b416f2-3800-41bf-9c43-91a4b60a0f64",
   "metadata": {},
   "outputs": [
    {
     "name": "stdout",
     "output_type": "stream",
     "text": [
      "{'Fender': 'Stratocaster', 'Gibson': 'Les-Paul', 'Ibanez': 'Gio', 'PRS': 'SE'}\n"
     ]
    }
   ],
   "source": [
    "Guitar_Brands = {\n",
    "  \"Fender\": \"Stratocaster\",\n",
    "  \"Gibson\": \"Les-Paul\",\n",
    "  \"Ibanez\": \"Gio\"\n",
    "}\n",
    "\n",
    "Guitar_Brands.update({\"PRS\": \"SE\"})\n",
    "\n",
    "print(Guitar_Brands)"
   ]
  },
  {
   "cell_type": "markdown",
   "id": "9c54789e-c547-4c85-8c89-42b30e078984",
   "metadata": {},
   "source": [
    "### copy()\n",
    "Allows you to copy a dictionary"
   ]
  },
  {
   "cell_type": "code",
   "execution_count": 67,
   "id": "99c0e249-b69c-4b70-8144-45e2fac19531",
   "metadata": {},
   "outputs": [
    {
     "name": "stdout",
     "output_type": "stream",
     "text": [
      "{'Fender': 'Stratocaster', 'Gibson': 'Les-Paul', 'Ibanez': 'Gio'}\n"
     ]
    }
   ],
   "source": [
    "Guitar_Brands = {\n",
    "  \"Fender\": \"Stratocaster\",\n",
    "  \"Gibson\": \"Les-Paul\",\n",
    "  \"Ibanez\": \"Gio\"\n",
    "}\n",
    "\n",
    "Dictionary_Copy = Guitar_Brands.copy()\n",
    "\n",
    "print(Dictionary_Copy)"
   ]
  },
  {
   "cell_type": "markdown",
   "id": "845d2e9a-6243-4785-9281-f054fe4c1e5a",
   "metadata": {},
   "source": [
    "### clear()\n",
    "Allows you to clear the contents of a dictionary"
   ]
  },
  {
   "cell_type": "code",
   "execution_count": 68,
   "id": "62d1aaf2-2b12-458c-8071-4059ff5197e7",
   "metadata": {},
   "outputs": [
    {
     "name": "stdout",
     "output_type": "stream",
     "text": [
      "{}\n"
     ]
    }
   ],
   "source": [
    "Guitar_Brands = {\n",
    "  \"Fender\": \"Stratocaster\",\n",
    "  \"Gibson\": \"Les-Paul\",\n",
    "  \"Ibanez\": \"Gio\"\n",
    "}\n",
    "\n",
    "Guitar_Brands.clear()\n",
    "\n",
    "print(Guitar_Brands)"
   ]
  },
  {
   "cell_type": "markdown",
   "id": "2737bc3d-0634-4ea0-b6cf-fd7295c81dbe",
   "metadata": {},
   "source": [
    "### fromkeys()\n",
    "Allows you to assign keys and values to a dictionary from various variables"
   ]
  },
  {
   "cell_type": "code",
   "execution_count": 69,
   "id": "84dc74e0-7cb2-4065-b999-8883b604c2df",
   "metadata": {},
   "outputs": [
    {
     "name": "stdout",
     "output_type": "stream",
     "text": [
      "{'Fender': 100, 'Gibson': 100, 'Ibanez': 100}\n"
     ]
    }
   ],
   "source": [
    "Guitars = ('Fender', 'Gibson', 'Ibanez')\n",
    "Monetary_Value = 100\n",
    "\n",
    "Guitar_Monetary_Value = dict.fromkeys(Guitars, Monetary_Value)\n",
    "\n",
    "print(Guitar_Monetary_Value)"
   ]
  },
  {
   "cell_type": "markdown",
   "id": "1578e466-d29d-445e-bdd2-49a2f8085a3e",
   "metadata": {},
   "source": [
    "### popitem()\n",
    "Removes the last item from the dictionary"
   ]
  },
  {
   "cell_type": "code",
   "execution_count": 70,
   "id": "60b5fdb6-6065-4c0e-a264-f13c3b953b1d",
   "metadata": {},
   "outputs": [
    {
     "name": "stdout",
     "output_type": "stream",
     "text": [
      "{'Fender': 'Stratocaster', 'Gibson': 'Les-Paul'}\n"
     ]
    }
   ],
   "source": [
    "Guitar_Brands = {\n",
    "  \"Fender\": \"Stratocaster\",\n",
    "  \"Gibson\": \"Les-Paul\",\n",
    "  \"Ibanez\": \"Gio\"\n",
    "}\n",
    "\n",
    "Guitar_Brands.popitem()\n",
    "\n",
    "print(Guitar_Brands)"
   ]
  },
  {
   "cell_type": "markdown",
   "id": "86f8e297-2f19-4bad-a9c1-4809e405edd5",
   "metadata": {},
   "source": [
    "## Dictionary Errors"
   ]
  },
  {
   "cell_type": "markdown",
   "id": "5d4af5dc-7299-459e-a849-19851fc2b6ae",
   "metadata": {},
   "source": [
    "### KeyError\n",
    "Occurs when trying to access a dictionary key that does not exist in the dictionary"
   ]
  },
  {
   "cell_type": "code",
   "execution_count": 71,
   "id": "f320088d-c825-401e-b35a-8dac2bc51450",
   "metadata": {},
   "outputs": [
    {
     "ename": "KeyError",
     "evalue": "'Harley_Benton'",
     "output_type": "error",
     "traceback": [
      "\u001b[0;31m--------------------------------------\u001b[0m",
      "\u001b[0;31mKeyError\u001b[0mTraceback (most recent call last)",
      "\u001b[0;32m<ipython-input-71-54d3ad1cb74c>\u001b[0m in \u001b[0;36m<module>\u001b[0;34m\u001b[0m\n\u001b[1;32m      5\u001b[0m }\n\u001b[1;32m      6\u001b[0m \u001b[0;34m\u001b[0m\u001b[0m\n\u001b[0;32m----> 7\u001b[0;31m \u001b[0mprint\u001b[0m\u001b[0;34m(\u001b[0m\u001b[0mGuitar_Brands\u001b[0m\u001b[0;34m[\u001b[0m\u001b[0;34m\"Harley_Benton\"\u001b[0m\u001b[0;34m]\u001b[0m\u001b[0;34m)\u001b[0m\u001b[0;34m\u001b[0m\u001b[0;34m\u001b[0m\u001b[0m\n\u001b[0m",
      "\u001b[0;31mKeyError\u001b[0m: 'Harley_Benton'"
     ]
    }
   ],
   "source": [
    "Guitar_Brands = {\n",
    "  \"Fender\": \"Stratocaster\",\n",
    "  \"Gibson\": \"Les-Paul\",\n",
    "  \"Ibanez\": \"Gio\"\n",
    "}\n",
    "\n",
    "print(Guitar_Brands[\"Harley_Benton\"])"
   ]
  },
  {
   "cell_type": "markdown",
   "id": "2af08487-0cf0-4a57-b9b9-6727a9c40469",
   "metadata": {},
   "source": [
    "### Syntax Error\n",
    "Occurs when there is a syntax mistake when assigning values to the dictionary (missing a comma in this case)"
   ]
  },
  {
   "cell_type": "code",
   "execution_count": 72,
   "id": "e8c842fd-1d1e-4b83-8bf6-7bcc58c42f72",
   "metadata": {},
   "outputs": [
    {
     "ename": "SyntaxError",
     "evalue": "invalid syntax (<ipython-input-72-b88284f04c19>, line 4)",
     "output_type": "error",
     "traceback": [
      "\u001b[0;36m  File \u001b[0;32m\"<ipython-input-72-b88284f04c19>\"\u001b[0;36m, line \u001b[0;32m4\u001b[0m\n\u001b[0;31m    \"Ibanez\": \"Gio\"\u001b[0m\n\u001b[0m            ^\u001b[0m\n\u001b[0;31mSyntaxError\u001b[0m\u001b[0;31m:\u001b[0m invalid syntax\n"
     ]
    }
   ],
   "source": [
    "Guitar_Brands = {\n",
    "  \"Fender\": \"Stratocaster\",\n",
    "  \"Gibson\": \"Les-Paul\"\n",
    "  \"Ibanez\": \"Gio\"\n",
    "}\n",
    "\n",
    "print(Guitar_Brands)"
   ]
  },
  {
   "cell_type": "markdown",
   "id": "9e342b91-6345-4a8d-8258-74aeef67e862",
   "metadata": {},
   "source": [
    "### Type Error\n",
    "This error can occur when trying to create an item in a dictionary whose key is an unhashable object\n"
   ]
  },
  {
   "cell_type": "code",
   "execution_count": 73,
   "id": "48b2b8b2-51e0-4101-8916-0320dd05d7d6",
   "metadata": {},
   "outputs": [
    {
     "ename": "TypeError",
     "evalue": "unhashable type: 'dict'",
     "output_type": "error",
     "traceback": [
      "\u001b[0;31m--------------------------------------\u001b[0m",
      "\u001b[0;31mTypeError\u001b[0mTraceback (most recent call last)",
      "\u001b[0;32m<ipython-input-73-6d61ae0232e3>\u001b[0m in \u001b[0;36m<module>\u001b[0;34m\u001b[0m\n\u001b[1;32m      5\u001b[0m }\n\u001b[1;32m      6\u001b[0m \u001b[0;34m\u001b[0m\u001b[0m\n\u001b[0;32m----> 7\u001b[0;31m \u001b[0mGuitar_Brands\u001b[0m\u001b[0;34m.\u001b[0m\u001b[0mupdate\u001b[0m\u001b[0;34m(\u001b[0m\u001b[0;34m{\u001b[0m\u001b[0;34m{\u001b[0m\u001b[0;34m\"Paul\"\u001b[0m\u001b[0;34m:\u001b[0m\u001b[0;34m\"Reed\"\u001b[0m\u001b[0;34m}\u001b[0m\u001b[0;34m:\u001b[0m \u001b[0;34m\"SC-500\"\u001b[0m\u001b[0;34m}\u001b[0m\u001b[0;34m)\u001b[0m\u001b[0;34m\u001b[0m\u001b[0;34m\u001b[0m\u001b[0m\n\u001b[0m",
      "\u001b[0;31mTypeError\u001b[0m: unhashable type: 'dict'"
     ]
    }
   ],
   "source": [
    "Guitar_Brands = {\n",
    "  \"Fender\": \"Stratocaster\",\n",
    "  \"Gibson\": \"Les-Paul\",\n",
    "  \"Ibanez\": \"Gio\",  \n",
    "}\n",
    "\n",
    "Guitar_Brands.update({{\"Paul\":\"Reed\"}: \"SC-500\"})\n"
   ]
  },
  {
   "cell_type": "markdown",
   "id": "7f9fe810-8252-43ee-9b45-130fb2e5f6ca",
   "metadata": {
    "tags": []
   },
   "source": [
    "# W1-HW4 \n",
    "\n",
    "Print only the key and only the value of the dictionary in the below `for` loop.\n"
   ]
  },
  {
   "cell_type": "code",
   "execution_count": 74,
   "id": "3ef9a517-2096-4ee4-97c6-491fa3d81b29",
   "metadata": {},
   "outputs": [
    {
     "name": "stdout",
     "output_type": "stream",
     "text": [
      "ratatouille \n",
      "homemade pasta\n"
     ]
    }
   ],
   "source": [
    "recipe_dict = {} \n",
    "recipe_dict['ratatouille '] = ['eggplant', 'tomato', 'zucchini', 'onion', 'olive oil', 'garlic']\n",
    "recipe_dict['homemade pasta'] = ['semolina flour', 'olive oil', 'sea salt']\n",
    "for key in recipe_dict.keys(): \n",
    "    print(key)\n",
    "    "
   ]
  },
  {
   "cell_type": "code",
   "execution_count": 75,
   "id": "85c29510-19e7-4765-b3ff-0f9c544f3f9d",
   "metadata": {},
   "outputs": [
    {
     "name": "stdout",
     "output_type": "stream",
     "text": [
      "ratatouille \n",
      "['eggplant', 'tomato', 'zucchini', 'onion', 'olive oil', 'garlic']\n",
      "homemade pasta\n",
      "['semolina flour', 'olive oil', 'sea salt']\n"
     ]
    }
   ],
   "source": [
    "recipe_dict = {} \n",
    "recipe_dict['ratatouille '] = ['eggplant', 'tomato', 'zucchini', 'onion', 'olive oil', 'garlic']\n",
    "recipe_dict['homemade pasta'] = ['semolina flour', 'olive oil', 'sea salt']\n",
    "for key,value in recipe_dict.items(): \n",
    "    print(key)\n",
    "    print(value)"
   ]
  },
  {
   "cell_type": "markdown",
   "id": "d3925da8-8bbe-4ae5-8096-ede3c68d7d1c",
   "metadata": {},
   "source": [
    "# W2-HW5\n",
    "\n",
    "get the squares of odd numbers in the given list.\n",
    "\n",
    "my_numbers = [1,3,5,7,9,12,19,21]\n",
    "\n",
    "steps in the algorithm:\n",
    "1. start for loop\n",
    "2. calculate the square of the numbers and print that as an output when the numbers are odd numbers "
   ]
  },
  {
   "cell_type": "code",
   "execution_count": 76,
   "id": "17faf266-c146-44e9-baa2-e03244be4a15",
   "metadata": {},
   "outputs": [
    {
     "name": "stdout",
     "output_type": "stream",
     "text": [
      "1\n",
      "9\n",
      "25\n",
      "49\n",
      "81\n",
      "361\n",
      "441\n"
     ]
    }
   ],
   "source": [
    "my_numbers = [1,3,5,7,9,12,19,21]\n",
    "\n",
    "for i in my_numbers:\n",
    "    if (i % 2 == 0):\n",
    "        pass\n",
    "    else:\n",
    "        squared_number = i ** 2\n",
    "        print(squared_number)"
   ]
  },
  {
   "cell_type": "markdown",
   "id": "potential-california",
   "metadata": {},
   "source": [
    "# W2-HW6: find the dinucleotides\n",
    "\n",
    "Write a function named \"count_dinucleotides\", which will take dna and pair as its two arguments, i.e., count_dinucleotides(dna,pair)\n",
    "\n",
    "The output should be the count of how many of the given dinucleotides are found in the dna string.\n",
    "\n",
    "Example: If the DNA sequence is 'ACTGCTATCCATT' and the pair is 'AT' the output should be 2. "
   ]
  },
  {
   "cell_type": "code",
   "execution_count": 89,
   "id": "07ea5970-3d41-4d45-948a-b58cc5b154cf",
   "metadata": {},
   "outputs": [
    {
     "name": "stdout",
     "output_type": "stream",
     "text": [
      "The DNA pair AT is found 2 times in the following DNA sequence ATCGAGTACGAT\n"
     ]
    }
   ],
   "source": [
    "def count_dinucleotides(dna,pair):\n",
    "    \"\"\"This function gets a DNA sequence and returns the count of the dinucleotide pair within the DNA sequence\"\"\"\n",
    "    #convert sequence to upper letter format \n",
    "    dna = dna.upper()\n",
    "    pair = pair.upper()\n",
    "    pair_length = len(pair)\n",
    "    dna_split = [dna[i:i+pair_length] for i in range(0, len(dna), pair_length)]\n",
    "    \n",
    "    count = 0 #Initializing count for pair in dna_split\n",
    "    for each in dna_split:\n",
    "        if pair in each:\n",
    "            count += 1\n",
    "    if count < 1:\n",
    "        print(\"The DNA nucleotide pair is not in the DNA sequence\")\n",
    "    if count >= 1:\n",
    "        print(\"The DNA pair \" + pair + \" is found \" + str(count) + \" times in the following DNA sequence \" + dna)\n",
    "\n",
    "    \n",
    "count_dinucleotides(\"ATCGAGTACGAT\", \"AT\")"
   ]
  },
  {
   "cell_type": "markdown",
   "id": "younger-bronze",
   "metadata": {},
   "source": [
    "# W2-HW7: convert codons to aminoacids\n",
    "\n",
    "Write a function called codon_to_aa() that takes in a single three-base-pair string and returns \n",
    "a one-character string with the corresponding amino acid code.\n",
    "\n",
    "You may need to define all 64 possibilities, so be careful not to make any typos! \n",
    "\n",
    "Here is a hint in case you want to use it: \n",
    "\n",
    "    dict_aa = {'ATA':'I', 'ATC':'I', 'ATT':'I', 'ATG':'M',\n",
    "        'ACA':'T', 'ACC':'T', 'ACG':'T', 'ACT':'T',\n",
    "        'AAC':'N', 'AAT':'N', 'AAA':'K', 'AAG':'K',\n",
    "        'AGC':'S', 'AGT':'S', 'AGA':'R', 'AGG':'R',                \n",
    "        'CTA':'L', 'CTC':'L', 'CTG':'L', 'CTT':'L',\n",
    "        'CCA':'P', 'CCC':'P', 'CCG':'P', 'CCT':'P',\n",
    "        'CAC':'H', 'CAT':'H', 'CAA':'Q', 'CAG':'Q',\n",
    "        'CGA':'R', 'CGC':'R', 'CGG':'R', 'CGT':'R',\n",
    "        'GTA':'V', 'GTC':'V', 'GTG':'V', 'GTT':'V',\n",
    "        'GCA':'A', 'GCC':'A', 'GCG':'A', 'GCT':'A',\n",
    "        'GAC':'D', 'GAT':'D', 'GAA':'E', 'GAG':'E',\n",
    "        'GGA':'G', 'GGC':'G', 'GGG':'G', 'GGT':'G',\n",
    "        'TCA':'S', 'TCC':'S', 'TCG':'S', 'TCT':'S',\n",
    "        'TTC':'F', 'TTT':'F', 'TTA':'L', 'TTG':'L',\n",
    "        'TAC':'Y', 'TAT':'Y', 'TAA':'_', 'TAG':'_',\n",
    "        'TGC':'C', 'TGT':'C', 'TGA':'_', 'TGG':'W'}\n",
    "\n",
    "If the input is not a valid three-base-pair DNA string, the function should return \"X\" to signify “unknown.” \n",
    "\n",
    "Test your function with a few calls like \n",
    "        \n",
    "        print(codon_to_aa(\"TCC\")), \n",
    "        print(codon_to_aa(\"GAA\")), \n",
    "        and print(codon_to_aa(\"BBB\")).\n"
   ]
  },
  {
   "cell_type": "code",
   "execution_count": 87,
   "id": "f03b8e0f-14e5-49e1-9b9e-77bd2fd96815",
   "metadata": {},
   "outputs": [
    {
     "name": "stdout",
     "output_type": "stream",
     "text": [
      "S\n",
      "E\n",
      "X\n"
     ]
    }
   ],
   "source": [
    "dict_aa = {'ATA':'I', 'ATC':'I', 'ATT':'I', 'ATG':'M',\n",
    "    'ACA':'T', 'ACC':'T', 'ACG':'T', 'ACT':'T',\n",
    "    'AAC':'N', 'AAT':'N', 'AAA':'K', 'AAG':'K',\n",
    "    'AGC':'S', 'AGT':'S', 'AGA':'R', 'AGG':'R',                \n",
    "    'CTA':'L', 'CTC':'L', 'CTG':'L', 'CTT':'L',\n",
    "    'CCA':'P', 'CCC':'P', 'CCG':'P', 'CCT':'P',\n",
    "    'CAC':'H', 'CAT':'H', 'CAA':'Q', 'CAG':'Q',\n",
    "    'CGA':'R', 'CGC':'R', 'CGG':'R', 'CGT':'R',\n",
    "    'GTA':'V', 'GTC':'V', 'GTG':'V', 'GTT':'V',\n",
    "    'GCA':'A', 'GCC':'A', 'GCG':'A', 'GCT':'A',\n",
    "    'GAC':'D', 'GAT':'D', 'GAA':'E', 'GAG':'E',\n",
    "    'GGA':'G', 'GGC':'G', 'GGG':'G', 'GGT':'G',\n",
    "    'TCA':'S', 'TCC':'S', 'TCG':'S', 'TCT':'S',\n",
    "    'TTC':'F', 'TTT':'F', 'TTA':'L', 'TTG':'L',\n",
    "    'TAC':'Y', 'TAT':'Y', 'TAA':'_', 'TAG':'_',\n",
    "    'TGC':'C', 'TGT':'C', 'TGA':'_', 'TGG':'W'}\n",
    "\n",
    "\n",
    "\n",
    "def codon_to_aa(codon):\n",
    "    \"\"\"This function returns the coresponding amino acid of a codon if the codon is a valid & 3 letters\"\"\"\n",
    "    Amino_Acid = [val for key, val in dict_aa.items() if codon in key]\n",
    "    Amino_Acid_str = \"\".join(Amino_Acid) #Converting Amino acid list to string\n",
    "    if not bool(Amino_Acid):\n",
    "        print(\"X\")\n",
    "    elif len(Amino_Acid) >3:\n",
    "        print(\"X\")\n",
    "    else:\n",
    "        print(Amino_Acid_str)\n",
    "\n",
    "codon_to_aa(\"TCC\")\n",
    "codon_to_aa(\"GAA\")\n",
    "codon_to_aa(\"BBB\")"
   ]
  },
  {
   "cell_type": "markdown",
   "id": "997c33bc-b114-4271-84d8-cdb99dbab0e8",
   "metadata": {
    "tags": []
   },
   "source": [
    "# W2-HW8: get substrings from a given string\n",
    "\n",
    "Write a program with a function called get_windows() that takes three parameters: \n",
    "\n",
    "    the sequence to extract windows from (string), \n",
    "    the window size (int), \n",
    "    and the step size (int). \n",
    "    \n",
    "The function should return a list of strings, one per window, with no “partial windows” \n",
    "if the last window would run off the end of the sequence.\n",
    "\n",
    "Then test your function for the following cases:\n",
    "\n",
    "    get_windows('AAACTGTCTCTA', 3, 2)\n",
    "    get_windows('AC', 4, 2)\n",
    "    get_windows('TCTCTATCGGACG', 2, 3)\n"
   ]
  },
  {
   "cell_type": "code",
   "execution_count": 88,
   "id": "9ee4f524-4d5f-4f28-ab8e-e9febe9417ad",
   "metadata": {},
   "outputs": [
    {
     "name": "stdout",
     "output_type": "stream",
     "text": [
      "['AAA', 'CTG', 'TCT']\n",
      "[]\n",
      "['TC', 'TC']\n"
     ]
    }
   ],
   "source": [
    "def get_windows(dna_sequence, window_size, step_size):\n",
    "    \"\"\"This function splits a DNA sequence into lists, with specified variables for list element length (window size) and stepsize for skipping elements\"\"\"\n",
    "    dna_window = [dna_sequence[i:i+window_size] for i in range(0, len(dna_sequence), window_size)]\n",
    "    dna_window2 = dna_window[::step_size]\n",
    "    \n",
    "    if dna_window2[-1] != window_size: #Removing last element if the element is not equal to window size (Prevents run off from end of sequence)\n",
    "        dna_window2.remove(dna_window2[-1])\n",
    "        print(dna_window2)\n",
    "    else:\n",
    "        print(dna_window2)\n",
    "        \n",
    "\n",
    "get_windows('AAACTGTCTCTA', 3, 1)\n",
    "get_windows('AC', 4, 2)\n",
    "get_windows('TCTCTATCGGACG', 2, 3)"
   ]
  },
  {
   "cell_type": "code",
   "execution_count": null,
   "id": "d1cf317e-1ee9-4e42-9955-67911cc4f351",
   "metadata": {},
   "outputs": [],
   "source": []
  }
 ],
 "metadata": {
  "kernelspec": {
   "display_name": "Python 3",
   "language": "python",
   "name": "python3"
  },
  "language_info": {
   "codemirror_mode": {
    "name": "ipython",
    "version": 3
   },
   "file_extension": ".py",
   "mimetype": "text/x-python",
   "name": "python",
   "nbconvert_exporter": "python",
   "pygments_lexer": "ipython3",
   "version": "3.6.8"
  }
 },
 "nbformat": 4,
 "nbformat_minor": 5
}
