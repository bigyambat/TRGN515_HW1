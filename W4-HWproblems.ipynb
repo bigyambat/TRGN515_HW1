{
 "cells": [
  {
   "cell_type": "markdown",
   "id": "bc722033-ceb8-4b8c-a60c-f644e18be948",
   "metadata": {},
   "source": [
    "#### W4-HW13: Write sets of Python functions that will take a DNA sequence and generate 1) reverse, 2) complement, 3) reverse complement of that input sequence. Provide explanations for what complement and reverse complement sequences mean in molecular biology. Address all [corner cases](http://carpentries-incubator.github.io/python-testing/06-edges/index.html) such as degenerate bases, wrong data type for input, etc. DO NOT use Biopython. Make sure to test your functions for a DNA sequence you found and downloaded from Genbank (please do not use examples shown in the class).\n"
   ]
  },
  {
   "cell_type": "markdown",
   "id": "78692571-a22d-4281-863b-7765e602edef",
   "metadata": {},
   "source": [
    "Molecular Biology contains many terms with respect to DNA strands. DNA strands contain the following nucleotides: Adenoise, Guanine, Thymine, and Cytosine (and technically Uracil for mRNA). DNA is forms a double stranded helix with two DNA strands that adhere together through hydrogen bonds. In this helix, Adenosines and Guanines will hydrogen bond with Thymines and Cytosines (respectively) across the helix. Since the hydogen bonding pattern is predictable , you are able to figure out a complementary strand given 1 strand of DNA. This is coresponding strand is called the complementary strand. These start and end of these complementary strands run in anti parallel directions. So, if the strands are put parallel to each other, they will be reverse and complementary to each other. When doing PCR, primers involved have to be reverse complentary to their sequence to work properly. "
   ]
  },
  {
   "cell_type": "markdown",
   "id": "ca2e1b3e-4628-4ced-b53f-6e0038fbd0fc",
   "metadata": {},
   "source": [
    "### DNA Sequence from Genbank"
   ]
  },
  {
   "cell_type": "markdown",
   "id": "c2f9b769-49c1-4af7-81c6-b4a2af397a14",
   "metadata": {},
   "source": [
    "I imported the following DNA sequence from Genbank. The sequence is a Haemophilus influenzae Rd KW20 chromosome, complete genome. I'll be using the first record from this Fasta file. \n",
    "Fasta file was saved to same directory as Jupyter Notebook.\n",
    "The link to the Genbank is provided below:\n",
    " https://www.ncbi.nlm.nih.gov/nuccore/L42023"
   ]
  },
  {
   "cell_type": "code",
   "execution_count": 3,
   "id": "f984137b-ba4b-4cf3-9599-8f6d148745ad",
   "metadata": {},
   "outputs": [
    {
     "name": "stdout",
     "output_type": "stream",
     "text": [
      "ATGGCAATTAAAATTGGTATCAATGGTTTTGGTCGTATCGGCCGTATCGTATTCCGTGCAGCACAACACCGTGATGACATTGAAGTTGTAGGTATTAACGACTTAATCGACGTTGAATACATGGCTTATATGTTGAAATATGATTCAACTCACGGTCGTTTCGACGGCACTGTTGAAGTGAAAGATGGTAACTTAGTGGTTAATGGTAAAACTATCCGTGTAACTGCAGAACGTGATCCAGCAAACTTAAACTGGGGTGCAATCGGTGTTGATATCGCTGTTGAAGCGACTGGTTTATTCTTAACTGATGAAACTGCTCGTAAACATATCACTGCAGGCGCAAAAAAAGTTGTATTAACTGGCCCATCTAAAGATGCAACCCCTATGTTCGTTCGTGGTGTAAACTTCAACGCATACGCAGGTCAAGATATCGTTTCTAACGCATCTTGTACAACAAACTGTTTAGCTCCTTTAGCACGTGTTGTTCATGAAACTTTCGGTATCAAAGATGGTTTAATGACCACTGTTCACGCAACGACTGCAACTCAAAAAACTGTGGATGGTCCATCAGCTAAAGACTGGCGCGGCGGCCGCGGTGCATCACAAAACATCATTCCATCTTCAACAGGTGCAGCGAAAGCAGTAGGTAAAGTATTACCTGCATTAAACGGTAAATTAACTGGTATGGCTTTCCGTGTTCCAACGCCAAACGTATCTGTTGTTGATTTAACAGTTAATCTTGAAAAACCAGCTTCTTATGATGCAATCAAACAAGCAATCAAAGATGCAGCGGAAGGTAAAACGTTCAATGGCGAATTAAAAGGCGTATTAGGTTACACTGAAGATGCTGTTGTTTCTACTGACTTCAACGGTTGTGCTTTAACTTCTGTATTTGATGCAGACGCTGGTATCGCATTAACTGATTCTTTCGTTAAATTGGTATCTTGGTACGATAACGAAACGGGTTACTCAAACAAAGTATTAGACTTAGTAGCTCATATCTACAACTACAAAGGCTAA\n"
     ]
    }
   ],
   "source": [
    "from Bio import SeqIO\n",
    "\n",
    "#Importing first record of fasta file using SeqIO.parse and next()\n",
    "record = next(SeqIO.parse(\"sequence.fasta\", \"fasta\"))\n",
    "\n",
    "#Converting fasta sequence to string\n",
    "Fasta_Sequence = str(record.seq)\n",
    "\n",
    "print(Fasta_Sequence)"
   ]
  },
  {
   "cell_type": "markdown",
   "id": "4f619581-22e7-4895-a677-56a3fb5ae155",
   "metadata": {},
   "source": [
    "### DNA Reverse Function\n"
   ]
  },
  {
   "cell_type": "code",
   "execution_count": 113,
   "id": "ef996ec7-d36d-472d-a13f-037d3190524d",
   "metadata": {},
   "outputs": [
    {
     "name": "stdout",
     "output_type": "stream",
     "text": [
      "AATCGGAAACATCAACATCTATACTCGATGATTCAGATTATGAAACAAACTCATTGGGCAAAGCAATAGCATGGTTCTATGGTTAAATTGCTTTCTTAGTCAATTACGCTATGGTCGCAGACGTAGTTTATGTCTTCAATTTCGTGTTGGCAACTTCAGTCATCTTTGTTGTCGTAGAAGTCACATTGGATTATGCGGAAAATTAAGCGGTAACTTGCAAAATGGAAGGCGACGTAGAAACTAACGAACAAACTAACGTAGTATTCTTCGACCAAAAAGTTCTAATTGACAATTTAGTTGTTGTCTATGCAAACCGCAACCTTGTGCCTTTCGGTATGGTCAATTAAATGGCAAATTACGTCCATTATGAAATGGATGACGAAAGCGACGTGGACAACTTCTACCTTACTACAAAACACTACGTGGCGCCGGCGGCGCGGTCAGAAATCGACTACCTGGTAGGTGTCAAAAAACTCAACGTCAGCAACGCACTTGTCACCAGTAATTTGGTAGAAACTATGGCTTTCAAAGTACTTGTTGTGCACGATTTCCTCGATTTGTCAAACAACATGTTCTACGCAATCTTTGCTATAGAACTGGACGCATACGCAACTTCAAATGTGGTGCTTGCTTGTATCCCCAACGTAGAAATCTACCCGGTCAATTATGTTGAAAAAAACGCGGACGTCACTATACAAATGCTCGTCAAAGTAGTCAATTCTTATTTGGTCAGCGAAGTTGTCGCTATAGTTGTGGCTAACGTGGGGTCAAATTCAAACGACCTAGTGCAAGACGTCAATGTGCCTATCAAAATGGTAATTGGTGATTCAATGGTAGAAAGTGAAGTTGTCACGGCAGCTTTGCTGGCACTCAACTTAGTATAAAGTTGTATATTCGGTACATAAGTTGCAGCTAATTCAGCAATTATGGATGTTGAAGTTACAGTAGTGCCACAACACGACGTGCCTTATGCTATGCCGGCTATGCTGGTTTTGGTAACTATGGTTAAAATTAACGGTA\n"
     ]
    }
   ],
   "source": [
    "def DNA_Reverse(sequence):\n",
    "    '''Takes a DNA sequence and produces its reverse'''\n",
    "    \n",
    "    if type(sequence) != str:\n",
    "        raise Exception(\"Wrong Data Type Input. DNA sequence must be a string\")\n",
    "    \n",
    "    sequence = sequence.upper()\n",
    "    return print(sequence[::-1])\n",
    "\n",
    "DNA_Reverse(Fasta_Sequence)"
   ]
  },
  {
   "cell_type": "markdown",
   "id": "e3d6a853-7f11-410c-a9b2-92a669a6d04c",
   "metadata": {},
   "source": [
    "### DNA Complement Function"
   ]
  },
  {
   "cell_type": "code",
   "execution_count": 4,
   "id": "5b206cb3-11f4-4a78-9ff6-ddb275657e45",
   "metadata": {},
   "outputs": [
    {
     "name": "stdout",
     "output_type": "stream",
     "text": [
      "TACCGTTAATTTTAACCATAGTTACCAAAACCAGCATAGCCGGCATAGCATAAGGCACGTCGTGTTGTGGCACTACTGTAACTTCAACATCCATAATTGCTGAATTAGCTGCAACTTATGTACCGAATATACAACTTTATACTAAGTTGAGTGCCAGCAAAGCTGCCGTGACAACTTCACTTTCTACCATTGAATCACCAATTACCATTTTGATAGGCACATTGACGTCTTGCACTAGGTCGTTTGAATTTGACCCCACGTTAGCCACAACTATAGCGACAACTTCGCTGACCAAATAAGAATTGACTACTTTGACGAGCATTTGTATAGTGACGTCCGCGTTTTTTTCAACATAATTGACCGGGTAGATTTCTACGTTGGGGATACAAGCAAGCACCACATTTGAAGTTGCGTATGCGTCCAGTTCTATAGCAAAGATTGCGTAGAACATGTTGTTTGACAAATCGAGGAAATCGTGCACAACAAGTACTTTGAAAGCCATAGTTTCTACCAAATTACTGGTGACAAGTGCGTTGCTGACGTTGAGTTTTTTGACACCTACCAGGTAGTCGATTTCTGACCGCGCCGCCGGCGCCACGTAGTGTTTTGTAGTAAGGTAGAAGTTGTCCACGTCGCTTTCGTCATCCATTTCATAATGGACGTAATTTGCCATTTAATTGACCATACCGAAAGGCACAAGGTTGCGGTTTGCATAGACAACAACTAAATTGTCAATTAGAACTTTTTGGTCGAAGAATACTACGTTAGTTTGTTCGTTAGTTTCTACGTCGCCTTCCATTTTGCAAGTTACCGCTTAATTTTCCGCATAATCCAATGTGACTTCTACGACAACAAAGATGACTGAAGTTGCCAACACGAAATTGAAGACATAAACTACGTCTGCGACCATAGCGTAATTGACTAAGAAAGCAATTTAACCATAGAACCATGCTATTGCTTTGCCCAATGAGTTTGTTTCATAATCTGAATCATCGAGTATAGATGTTGATGTTTCCGATT\n"
     ]
    }
   ],
   "source": [
    "def DNA_Complement(sequence):\n",
    "    '''Takes a DNA sequence and produces its complement. Note: Works with Degenerate Bases'''\n",
    "\n",
    "    if type(sequence) != str:\n",
    "        raise Exception(\"Wrong Data Type Input. DNA sequence must be a string\")\n",
    "        \n",
    "    compl = ''\n",
    "    sequence = sequence.lower()\n",
    "    for letter in sequence:\n",
    "        if letter == 'a':\n",
    "            compl += 't'\n",
    "        elif letter == 'c':\n",
    "            compl += 'g'\n",
    "        elif letter == 't':\n",
    "            compl += 'a'\n",
    "        elif letter == 'g':\n",
    "            compl += 'c'\n",
    "        #Adding edge cases for degenerate bases (explanation is below in HW14)\n",
    "        elif letter == 'r':\n",
    "            compl += 'y'\n",
    "        elif letter == 'y':\n",
    "            compl += 'r'\n",
    "        elif letter == 'm':\n",
    "            compl += 'k'\n",
    "        elif letter == 'k':\n",
    "            compl += 'm'\n",
    "        elif letter == 's':\n",
    "            compl += 'w'\n",
    "        elif letter == 'w':\n",
    "            compl += 's'\n",
    "        elif letter == 'b':\n",
    "            compl += 'd'\n",
    "        elif letter == 'd':\n",
    "            compl += 'b'\n",
    "        elif letter == 'h':\n",
    "            compl += 'v'\n",
    "        elif letter == 'v':\n",
    "            compl += 'h'\n",
    "        elif letter == 'n': #Complement for any nucleotide is any nucleotide\n",
    "            compl += 'n'\n",
    "        else: #Complement for Unknown base \n",
    "            compl += 'U'\n",
    "    return print(compl.upper())\n",
    "\n",
    "DNA_Complement(Fasta_Sequence)"
   ]
  },
  {
   "cell_type": "markdown",
   "id": "d0144e30-b26b-401b-8af9-9b1b0a664423",
   "metadata": {},
   "source": [
    "### DNA Reverse Complement"
   ]
  },
  {
   "cell_type": "code",
   "execution_count": 5,
   "id": "ae182df4-40f5-4fbd-8fed-cfef8cb2ef7a",
   "metadata": {},
   "outputs": [
    {
     "name": "stdout",
     "output_type": "stream",
     "text": [
      "TTAGCCTTTGTAGTTGTAGATATGAGCTACTAAGTCTAATACTTTGTTTGAGTAACCCGTTTCGTTATCGTACCAAGATACCAATTTAACGAAAGAATCAGTTAATGCGATACCAGCGTCTGCATCAAATACAGAAGTTAAAGCACAACCGTTGAAGTCAGTAGAAACAACAGCATCTTCAGTGTAACCTAATACGCCTTTTAATTCGCCATTGAACGTTTTACCTTCCGCTGCATCTTTGATTGCTTGTTTGATTGCATCATAAGAAGCTGGTTTTTCAAGATTAACTGTTAAATCAACAACAGATACGTTTGGCGTTGGAACACGGAAAGCCATACCAGTTAATTTACCGTTTAATGCAGGTAATACTTTACCTACTGCTTTCGCTGCACCTGTTGAAGATGGAATGATGTTTTGTGATGCACCGCGGCCGCCGCGCCAGTCTTTAGCTGATGGACCATCCACAGTTTTTTGAGTTGCAGTCGTTGCGTGAACAGTGGTCATTAAACCATCTTTGATACCGAAAGTTTCATGAACAACACGTGCTAAAGGAGCTAAACAGTTTGTTGTACAAGATGCGTTAGAAACGATATCTTGACCTGCGTATGCGTTGAAGTTTACACCACGAACGAACATAGGGGTTGCATCTTTAGATGGGCCAGTTAATACAACTTTTTTTGCGCCTGCAGTGATATGTTTACGAGCAGTTTCATCAGTTAAGAATAAACCAGTCGCTTCAACAGCGATATCAACACCGATTGCACCCCAGTTTAAGTTTGCTGGATCACGTTCTGCAGTTACACGGATAGTTTTACCATTAACCACTAAGTTACCATCTTTCACTTCAACAGTGCCGTCGAAACGACCGTGAGTTGAATCATATTTCAACATATAAGCCATGTATTCAACGTCGATTAAGTCGTTAATACCTACAACTTCAATGTCATCACGGTGTTGTGCTGCACGGAATACGATACGGCCGATACGACCAAAACCATTGATACCAATTTTAATTGCCAT\n"
     ]
    }
   ],
   "source": [
    "def DNA_Reverse_Complement(sequence):\n",
    "    '''Takes a DNA sequence and produces its reverse complement. Note: Works with Degenerate Bases)'''\n",
    "\n",
    "    if type(sequence) != str:\n",
    "        raise Exception(\"Wrong Data Type Input. DNA sequence must be a string\")\n",
    "        \n",
    "    compl = ''\n",
    "    sequence = sequence.lower()\n",
    "    for letter in sequence:\n",
    "        if letter == 'a':\n",
    "            compl += 't'\n",
    "        elif letter == 'c':\n",
    "            compl += 'g'\n",
    "        elif letter == 't':\n",
    "            compl += 'a'\n",
    "        elif letter == 'g':\n",
    "            compl += 'c'\n",
    "        #Adding edge cases for degenerate bases\n",
    "        elif letter == 'r':\n",
    "            compl += 'y'\n",
    "        elif letter == 'y':\n",
    "            compl += 'r'\n",
    "        elif letter == 'm':\n",
    "            compl += 'k'\n",
    "        elif letter == 'k':\n",
    "            compl += 'm'\n",
    "        elif letter == 's':\n",
    "            compl += 'w'\n",
    "        elif letter == 'w':\n",
    "            compl += 's'\n",
    "        elif letter == 'b':\n",
    "            compl += 'd'\n",
    "        elif letter == 'd':\n",
    "            compl += 'b'\n",
    "        elif letter == 'h':\n",
    "            compl += 'v'\n",
    "        elif letter == 'v':\n",
    "            compl += 'h'\n",
    "        elif letter == 'n':\n",
    "            compl += 'n'\n",
    "        else: #Complement for Unknown base \n",
    "            compl += 'U'\n",
    "    return print(compl[::-1].upper())\n",
    "\n",
    "DNA_Reverse_Complement(Fasta_Sequence)"
   ]
  },
  {
   "cell_type": "markdown",
   "id": "a0281321-59aa-4616-a140-a256e451e062",
   "metadata": {},
   "source": [
    "#### W4-HW14: Explain how the built in reverse complement function work in Biopython. How does it handle degenerate bases?\n"
   ]
  },
  {
   "cell_type": "markdown",
   "id": "57e7382c-aa50-476f-bbdc-61964dbe0115",
   "metadata": {},
   "source": [
    "### Reverse_Complement()"
   ]
  },
  {
   "cell_type": "code",
   "execution_count": 12,
   "id": "84c1df67-0f74-40d3-aeea-a4b8d1f7e6f2",
   "metadata": {},
   "outputs": [
    {
     "data": {
      "text/plain": [
       "Seq('YNCTATCGGGGG')"
      ]
     },
     "execution_count": 12,
     "metadata": {},
     "output_type": "execute_result"
    }
   ],
   "source": [
    "from Bio.Seq import Seq\n",
    "my_dna = Seq(\"CCCCCGATAGNR\")\n",
    "my_dna.reverse_complement()"
   ]
  },
  {
   "cell_type": "markdown",
   "id": "d6747095-c646-42cc-8fa6-0fe7d23cad3a",
   "metadata": {},
   "source": [
    "The reverse_complement() function works only on the Seq datatype. Seq is a special datatype imported from the Biopython module. It is similar to a string, but allows for special biological functions. Seq datatype can also be used for degenerate bases. Degenerate bases are placeholders for specific nucleotides. \n",
    "\n",
    "The universal codes for specifying a degenerate bases are: R = A/G, Y = C/T, M = A/C, K = G/T, S = C/G, W = A/T, B = C/G/T, D = A/G/T, H = A/C/T, V = A/C/G, and N = A/C/G/T.\n",
    "\n",
    "So the pairs for degenerate bases are the following:\n",
    "* R and Y\n",
    "* M and K\n",
    "* S and W\n",
    "* B and D\n",
    "* H and V\n",
    "* N for any nucleotide\n",
    "\n",
    "The code for HW13 uses this key for the complement and reverse complement functions\n",
    "\n",
    "The function first assigns complements to each letter in the sequence. If there is a degenerate base, it will use the complement of that degenerate base. In the above example, since R = G or A, its complement is Y (which denotes C or T). Finally, the function reverses the string after these operations and returns the result. "
   ]
  },
  {
   "cell_type": "markdown",
   "id": "5c5351f0-f6f6-4f99-a85a-705105a72ef1",
   "metadata": {},
   "source": [
    "#### W4-HW15: What does the \"format_type\" keyword in qblast function do? Explain and show with examples. "
   ]
  },
  {
   "cell_type": "code",
   "execution_count": null,
   "id": "21061666-7e62-4010-84c3-ac1c725e8af2",
   "metadata": {},
   "outputs": [],
   "source": [
    "from Bio.Blast import NCBIWWW\n",
    "\n",
    "result_handle = NCBIWWW.qblast(\"blastn\", \"nt\", \"8332116\", format_type=\"Text\")\n",
    "\n",
    "print(result_handle)\n"
   ]
  },
  {
   "cell_type": "code",
   "execution_count": null,
   "id": "94f8f0e3-925f-4bee-bf01-b6ac5539560f",
   "metadata": {},
   "outputs": [],
   "source": [
    "from Bio.Blast import NCBIWWW\n",
    "\n",
    "result_handle = NCBIWWW.qblast(\"blastn\", \"nt\", \"8332116\", format_type=\"HTML\")\n",
    "\n",
    "for i in result_handle:\n",
    "    print(each)"
   ]
  },
  {
   "cell_type": "markdown",
   "id": "c064f888-d67f-4dce-8924-2fefb8eafad9",
   "metadata": {},
   "source": [
    "The qblast function can return the BLAST results in various formats, which you can choose with the optional format_type keyword: \"HTML\", \"Text\", \"ASN.1\", or \"XML\". The default is \"XML\".\n",
    "\n",
    "Unfortunately, the code takes a long time to run and won't output properly. "
   ]
  },
  {
   "cell_type": "markdown",
   "id": "dbb47312-902b-4295-af2f-110086714782",
   "metadata": {},
   "source": [
    "#### W4-HW16: Can you fix the following code, so that it can extract and return two random sequences from the given fasta file?\n",
    "\n",
    "    # let's get some random sequences from our large fasta file: without using Biopython (you can use other modules)\n",
    "\n",
    "    import random\n",
    "\n",
    "    with open('../datasets/ls_orchid.fasta') as f:\n",
    "        data = f.read().splitlines()\n",
    "        print(data)\n",
    "        for i in random.sample(range(0, len(data), 2), 2):\n",
    "            print(data[i])\n",
    "            print(data[i+1])"
   ]
  },
  {
   "cell_type": "code",
   "execution_count": 159,
   "id": "56d219b5-2d42-43a5-81e6-234f261d8956",
   "metadata": {},
   "outputs": [
    {
     "name": "stdout",
     "output_type": "stream",
     "text": [
      "GCGCCCGAGGCCATCAGGCCAAGGGCACGCCTGCCTGGGCATTGCGAGTCAAATCTCTCCCTTAATGAGG\n",
      "AGATAGAACCGGCAGAGGTCTTCGTCCTCCATGGAACCGGGGAGGCCCGGCATACCACCATACCCCCAAT\n"
     ]
    }
   ],
   "source": [
    "import random\n",
    "with open('../../../trgn515_2023/datasets/ls_orchid.fasta') as f:\n",
    "    data = f.read().splitlines()\n",
    "    \n",
    "    #Removing empty elements in list\n",
    "    while(\"\" in data):\n",
    "        data.remove(\"\")\n",
    "        \n",
    "    #Removing all lines that start with a > to exclude id line from list \n",
    "    fasta_sequences = [x for x in data if not x.startswith('>')]\n",
    "    \n",
    "    #Returns 2 random samples from the list without repetition\n",
    "    final_samples = random.sample(fasta_sequences, 2)\n",
    "    \n",
    "    print(final_samples[0])\n",
    "    print(final_samples[1])"
   ]
  }
 ],
 "metadata": {
  "kernelspec": {
   "display_name": "Python 3",
   "language": "python",
   "name": "python3"
  },
  "language_info": {
   "codemirror_mode": {
    "name": "ipython",
    "version": 3
   },
   "file_extension": ".py",
   "mimetype": "text/x-python",
   "name": "python",
   "nbconvert_exporter": "python",
   "pygments_lexer": "ipython3",
   "version": "3.6.8"
  }
 },
 "nbformat": 4,
 "nbformat_minor": 5
}
